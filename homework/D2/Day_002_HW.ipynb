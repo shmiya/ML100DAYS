{
 "cells": [
  {
   "cell_type": "markdown",
   "metadata": {},
   "source": [
    "## [作業目標]\n",
    "了解機器學習適合應用的領域與範疇。"
   ]
  },
  {
   "cell_type": "markdown",
   "metadata": {},
   "source": [
    "## [作業重點]\n",
    "透過瞭解機器學習的運作方式，找出非常適用機器學習應用的領域及其原因"
   ]
  },
  {
   "cell_type": "markdown",
   "metadata": {},
   "source": [
    "## 作業\n",
    "請找出一個你認為機器學習可以發光發熱的領域並闡述原因? \n",
    "機器學習最基礎的用法，是通過演算法來分析數據、從中學習，以及判斷或預測現實世界裡的某些事，並非手動編寫帶有特定指令的軟體程序來完成某個特殊任務，而是使用大量的數據和演算法來「訓練」機器，讓它學習如何執行任務。\n",
    "\n",
    "最早提出人工智慧概念的學者們構思出機器學習的概念，多年來也發展出決策樹學習、歸納邏輯編程、叢集、強化學習和貝葉斯網路等演算法，然而這些都沒有達到廣義人工智慧的最終目標，也未實現狹義人工智慧的一小部分目標。\n",
    "\n",
    "其實多年來最擅長應用機器學習的領域之一就是電腦視覺 5，不過仍得靠大量人工編碼作業來完成工作。人們會製作人工編碼分類器，像是邊緣檢測過濾器，讓程序可以識別對象的啟止位置、進行形狀檢測以確定是否為八邊形，還有用來識別「S-T-O-P」的分類器。從這些人工編碼分類器中，發展出能理解影像的演算法，「學習」判斷是否這是一個停止標誌。\n",
    "\n",
    "這很好，但還不到讓人驚艷的程度，特別是在起霧時無法完全看到標誌的情況下，或者被樹遮住了一部分。太過脆弱又太容易出錯的電腦視覺和影像檢測技術，還達不到與人類媲美的水準，一直要到近期才有重大突破。\n",
    "\n",
    "時間和正確的學習演算法改變了一切。"
   ]
  },
  {
   "cell_type": "code",
   "execution_count": null,
   "metadata": {},
   "outputs": [],
   "source": [
    "   "
   ]
  }
 ],
 "metadata": {
  "kernelspec": {
   "display_name": "Python 3",
   "language": "python",
   "name": "python3"
  },
  "language_info": {
   "codemirror_mode": {
    "name": "ipython",
    "version": 3
   },
   "file_extension": ".py",
   "mimetype": "text/x-python",
   "name": "python",
   "nbconvert_exporter": "python",
   "pygments_lexer": "ipython3",
   "version": "3.6.6"
  }
 },
 "nbformat": 4,
 "nbformat_minor": 2
}